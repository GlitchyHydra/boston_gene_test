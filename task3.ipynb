{
 "cells": [
  {
   "cell_type": "code",
   "execution_count": 26,
   "metadata": {},
   "outputs": [],
   "source": [
    "import pandas as pd\n",
    "import numpy as np\n",
    "import seaborn as sns"
   ]
  },
  {
   "cell_type": "code",
   "execution_count": 18,
   "metadata": {},
   "outputs": [
    {
     "data": {
      "text/html": [
       "<div>\n",
       "<style scoped>\n",
       "    .dataframe tbody tr th:only-of-type {\n",
       "        vertical-align: middle;\n",
       "    }\n",
       "\n",
       "    .dataframe tbody tr th {\n",
       "        vertical-align: top;\n",
       "    }\n",
       "\n",
       "    .dataframe thead th {\n",
       "        text-align: right;\n",
       "    }\n",
       "</style>\n",
       "<table border=\"1\" class=\"dataframe\">\n",
       "  <thead>\n",
       "    <tr style=\"text-align: right;\">\n",
       "      <th></th>\n",
       "      <th>Neutrophils</th>\n",
       "      <th>Eosinophils</th>\n",
       "      <th>Basophils</th>\n",
       "      <th>B_cells</th>\n",
       "      <th>T_cells</th>\n",
       "      <th>NKT_cells</th>\n",
       "      <th>NK_cells</th>\n",
       "      <th>Monocytes</th>\n",
       "      <th>Immature_NK_cells</th>\n",
       "      <th>Mature_NK_CD158+_CD57+</th>\n",
       "      <th>...</th>\n",
       "      <th>gdT_Vdelta2+</th>\n",
       "      <th>gdT_Vdelta2-</th>\n",
       "      <th>Naive_B_cells</th>\n",
       "      <th>Non-switched_Memory_IgM_B_cells</th>\n",
       "      <th>Switched_Memory_IgG+</th>\n",
       "      <th>Switched_Memory_IgA+</th>\n",
       "      <th>Switched_Memory_IgA-_IgG-</th>\n",
       "      <th>Time point</th>\n",
       "      <th>response</th>\n",
       "      <th>donor_num</th>\n",
       "    </tr>\n",
       "    <tr>\n",
       "      <th>inds</th>\n",
       "      <th></th>\n",
       "      <th></th>\n",
       "      <th></th>\n",
       "      <th></th>\n",
       "      <th></th>\n",
       "      <th></th>\n",
       "      <th></th>\n",
       "      <th></th>\n",
       "      <th></th>\n",
       "      <th></th>\n",
       "      <th></th>\n",
       "      <th></th>\n",
       "      <th></th>\n",
       "      <th></th>\n",
       "      <th></th>\n",
       "      <th></th>\n",
       "      <th></th>\n",
       "      <th></th>\n",
       "      <th></th>\n",
       "      <th></th>\n",
       "      <th></th>\n",
       "    </tr>\n",
       "  </thead>\n",
       "  <tbody>\n",
       "    <tr>\n",
       "      <th>1</th>\n",
       "      <td>61.409675</td>\n",
       "      <td>0.824102</td>\n",
       "      <td>0.343589</td>\n",
       "      <td>3.844453</td>\n",
       "      <td>19.948739</td>\n",
       "      <td>3.557391</td>\n",
       "      <td>2.919137</td>\n",
       "      <td>9.673985</td>\n",
       "      <td>0.166210</td>\n",
       "      <td>0.438825</td>\n",
       "      <td>...</td>\n",
       "      <td>0.010769</td>\n",
       "      <td>0.900482</td>\n",
       "      <td>2.904248</td>\n",
       "      <td>0.242094</td>\n",
       "      <td>0.279949</td>\n",
       "      <td>0.112244</td>\n",
       "      <td>0.086273</td>\n",
       "      <td>1</td>\n",
       "      <td>0</td>\n",
       "      <td>50</td>\n",
       "    </tr>\n",
       "    <tr>\n",
       "      <th>2</th>\n",
       "      <td>64.257310</td>\n",
       "      <td>1.040620</td>\n",
       "      <td>0.335715</td>\n",
       "      <td>1.666845</td>\n",
       "      <td>21.829764</td>\n",
       "      <td>2.095258</td>\n",
       "      <td>5.074820</td>\n",
       "      <td>5.437992</td>\n",
       "      <td>0.203931</td>\n",
       "      <td>0.620319</td>\n",
       "      <td>...</td>\n",
       "      <td>0.102681</td>\n",
       "      <td>0.086994</td>\n",
       "      <td>0.883428</td>\n",
       "      <td>0.162517</td>\n",
       "      <td>0.206272</td>\n",
       "      <td>0.068757</td>\n",
       "      <td>0.110428</td>\n",
       "      <td>1</td>\n",
       "      <td>1</td>\n",
       "      <td>100</td>\n",
       "    </tr>\n",
       "    <tr>\n",
       "      <th>3</th>\n",
       "      <td>73.598340</td>\n",
       "      <td>3.131417</td>\n",
       "      <td>1.105466</td>\n",
       "      <td>2.299966</td>\n",
       "      <td>6.354818</td>\n",
       "      <td>0.067537</td>\n",
       "      <td>4.075060</td>\n",
       "      <td>9.000547</td>\n",
       "      <td>0.126261</td>\n",
       "      <td>0.807166</td>\n",
       "      <td>...</td>\n",
       "      <td>0.037815</td>\n",
       "      <td>0.001964</td>\n",
       "      <td>1.561853</td>\n",
       "      <td>0.597683</td>\n",
       "      <td>0.046239</td>\n",
       "      <td>0.041672</td>\n",
       "      <td>0.018838</td>\n",
       "      <td>2</td>\n",
       "      <td>0</td>\n",
       "      <td>1</td>\n",
       "    </tr>\n",
       "    <tr>\n",
       "      <th>4</th>\n",
       "      <td>75.720771</td>\n",
       "      <td>1.039743</td>\n",
       "      <td>0.455274</td>\n",
       "      <td>2.768982</td>\n",
       "      <td>12.462724</td>\n",
       "      <td>0.274928</td>\n",
       "      <td>2.284924</td>\n",
       "      <td>4.608260</td>\n",
       "      <td>0.087786</td>\n",
       "      <td>0.148657</td>\n",
       "      <td>...</td>\n",
       "      <td>0.284012</td>\n",
       "      <td>0.022831</td>\n",
       "      <td>2.556266</td>\n",
       "      <td>0.055930</td>\n",
       "      <td>0.055930</td>\n",
       "      <td>0.045386</td>\n",
       "      <td>0.005043</td>\n",
       "      <td>1</td>\n",
       "      <td>1</td>\n",
       "      <td>78</td>\n",
       "    </tr>\n",
       "    <tr>\n",
       "      <th>5</th>\n",
       "      <td>45.240135</td>\n",
       "      <td>4.228360</td>\n",
       "      <td>1.195060</td>\n",
       "      <td>2.705728</td>\n",
       "      <td>25.813921</td>\n",
       "      <td>0.428603</td>\n",
       "      <td>7.068587</td>\n",
       "      <td>12.689077</td>\n",
       "      <td>0.302709</td>\n",
       "      <td>2.281679</td>\n",
       "      <td>...</td>\n",
       "      <td>0.358324</td>\n",
       "      <td>0.040277</td>\n",
       "      <td>1.734958</td>\n",
       "      <td>0.357482</td>\n",
       "      <td>0.182372</td>\n",
       "      <td>0.176724</td>\n",
       "      <td>0.059715</td>\n",
       "      <td>1</td>\n",
       "      <td>1</td>\n",
       "      <td>81</td>\n",
       "    </tr>\n",
       "  </tbody>\n",
       "</table>\n",
       "<p>5 rows × 43 columns</p>\n",
       "</div>"
      ],
      "text/plain": [
       "      Neutrophils  Eosinophils  Basophils   B_cells    T_cells  NKT_cells  \\\n",
       "inds                                                                        \n",
       "1       61.409675     0.824102   0.343589  3.844453  19.948739   3.557391   \n",
       "2       64.257310     1.040620   0.335715  1.666845  21.829764   2.095258   \n",
       "3       73.598340     3.131417   1.105466  2.299966   6.354818   0.067537   \n",
       "4       75.720771     1.039743   0.455274  2.768982  12.462724   0.274928   \n",
       "5       45.240135     4.228360   1.195060  2.705728  25.813921   0.428603   \n",
       "\n",
       "      NK_cells  Monocytes  Immature_NK_cells  Mature_NK_CD158+_CD57+  ...  \\\n",
       "inds                                                                  ...   \n",
       "1     2.919137   9.673985           0.166210                0.438825  ...   \n",
       "2     5.074820   5.437992           0.203931                0.620319  ...   \n",
       "3     4.075060   9.000547           0.126261                0.807166  ...   \n",
       "4     2.284924   4.608260           0.087786                0.148657  ...   \n",
       "5     7.068587  12.689077           0.302709                2.281679  ...   \n",
       "\n",
       "      gdT_Vdelta2+  gdT_Vdelta2-  Naive_B_cells  \\\n",
       "inds                                              \n",
       "1         0.010769      0.900482       2.904248   \n",
       "2         0.102681      0.086994       0.883428   \n",
       "3         0.037815      0.001964       1.561853   \n",
       "4         0.284012      0.022831       2.556266   \n",
       "5         0.358324      0.040277       1.734958   \n",
       "\n",
       "      Non-switched_Memory_IgM_B_cells  Switched_Memory_IgG+  \\\n",
       "inds                                                          \n",
       "1                            0.242094              0.279949   \n",
       "2                            0.162517              0.206272   \n",
       "3                            0.597683              0.046239   \n",
       "4                            0.055930              0.055930   \n",
       "5                            0.357482              0.182372   \n",
       "\n",
       "      Switched_Memory_IgA+  Switched_Memory_IgA-_IgG-  Time point  response  \\\n",
       "inds                                                                          \n",
       "1                 0.112244                   0.086273           1         0   \n",
       "2                 0.068757                   0.110428           1         1   \n",
       "3                 0.041672                   0.018838           2         0   \n",
       "4                 0.045386                   0.005043           1         1   \n",
       "5                 0.176724                   0.059715           1         1   \n",
       "\n",
       "      donor_num  \n",
       "inds             \n",
       "1            50  \n",
       "2           100  \n",
       "3             1  \n",
       "4            78  \n",
       "5            81  \n",
       "\n",
       "[5 rows x 43 columns]"
      ]
     },
     "execution_count": 18,
     "metadata": {},
     "output_type": "execute_result"
    }
   ],
   "source": [
    "df = pd.read_csv('./Task 3/cytometry_data.tsv', sep='\\t', index_col='inds')\n",
    "df['Time point'] = df['Time point'].astype(int)\n",
    "df['donor_num'] = df['donor_num'].astype(int)\n",
    "df['response'] = df['response'].astype(int)\n",
    "df.head()"
   ]
  },
  {
   "cell_type": "code",
   "execution_count": 13,
   "metadata": {},
   "outputs": [
    {
     "data": {
      "text/plain": [
       "Index(['Neutrophils', 'Eosinophils', 'Basophils', 'B_cells', 'T_cells',\n",
       "       'NKT_cells', 'NK_cells', 'Monocytes', 'Immature_NK_cells',\n",
       "       'Mature_NK_CD158+_CD57+', 'Mature_NK_CD158-_CD57+',\n",
       "       'Mature_NK_CD158+_CD57-', 'Mature_NK_CD158-_CD57-',\n",
       "       'Plasmacytoid_Dendritic_cells', 'cDC1', 'cDC2',\n",
       "       'Classical_Monocytes_FceRI+', 'Classical_Monocytes_FceRI-',\n",
       "       'Non-classical_Monocytes', 'HLA-DR-low_Monocytes', 'CD4_Naive_Tregs',\n",
       "       'CD4_Memory_Tregs', 'CD4_Naive_T_cells', 'CD4_Central_Memory',\n",
       "       'CD4_Transitional_Memory', 'CD4_TEMRA', 'CD4_Effector_Memory',\n",
       "       'CD8_Naive_T_cells', 'CD8_Central_Memory', 'CD8_Transitional_Memory',\n",
       "       'CD8_TEMRA', 'CD8_Effector_Memory', 'MAIT_cells', 'gdT_Vdelta2+',\n",
       "       'gdT_Vdelta2-', 'Naive_B_cells', 'Non-switched_Memory_IgM_B_cells',\n",
       "       'Switched_Memory_IgG+', 'Switched_Memory_IgA+',\n",
       "       'Switched_Memory_IgA-_IgG-', 'Time point', 'response', 'donor_num'],\n",
       "      dtype='object')"
      ]
     },
     "execution_count": 13,
     "metadata": {},
     "output_type": "execute_result"
    }
   ],
   "source": [
    "df.columns"
   ]
  },
  {
   "cell_type": "code",
   "execution_count": 52,
   "metadata": {},
   "outputs": [
    {
     "data": {
      "text/plain": [
       "inds\n",
       "3      73.598340\n",
       "7      78.124364\n",
       "8      52.440839\n",
       "12     58.286925\n",
       "13     61.230449\n",
       "         ...    \n",
       "196    56.102687\n",
       "197    44.338206\n",
       "198    56.172624\n",
       "199    67.320653\n",
       "200    79.425379\n",
       "Name: Neutrophils, Length: 100, dtype: float64"
      ]
     },
     "execution_count": 52,
     "metadata": {},
     "output_type": "execute_result"
    }
   ],
   "source": [
    "df.loc[df['Time point'] == 2, 'Neutrophils']"
   ]
  },
  {
   "cell_type": "code",
   "execution_count": 54,
   "metadata": {},
   "outputs": [
    {
     "data": {
      "text/plain": [
       "array([ 12.18866479,  13.86705452, -23.27993176,  13.04679055,\n",
       "         8.63375316,  23.14006318,  40.55634525,  -7.95358573,\n",
       "       -14.57377868,   3.99562029,  12.47070864,  20.23549109,\n",
       "         6.57233422, -10.37533566,   5.82038122,  -7.31405464,\n",
       "        -6.74059454,  22.08020035,  29.54167576,  50.73210388,\n",
       "        30.72098516,   4.32857008, -17.41215881,   2.21910894,\n",
       "       -27.03003058,  20.29060955,  22.6141159 ,  31.43596425,\n",
       "         0.10557398,  21.27411409,   6.6992127 ,   7.73032435,\n",
       "         4.24378464,  20.65003794, -17.17412303,   2.17118878,\n",
       "        26.83518898,   8.09189947, -24.61533863,  27.48536042,\n",
       "        25.89268633,   0.11697575,  13.79703391,          nan,\n",
       "       -15.09899203, -10.21404967,  11.10730745,  46.16551108,\n",
       "        24.76589805,  -0.07876676,   6.58622714,  50.91943439,\n",
       "       -11.84823424,  34.12035313,  -0.08133015,  -1.40510365,\n",
       "        25.55585343, -20.58993154, -11.33564826, -23.49266288,\n",
       "        16.47825061, -26.45755393,   2.99630639,   3.86594866,\n",
       "        26.3130873 ,  20.48364737, -15.89537749, -20.32014387,\n",
       "         8.99618313,  23.74700205, -12.07256415,  23.69629757,\n",
       "         1.00703848,  12.63628842,   7.68028794,  34.10152324,\n",
       "         3.88560753,  36.24874806,  -0.05110194,   2.77164833,\n",
       "        25.06067972,  35.12648815, -15.4430914 , -11.41321968,\n",
       "        -7.0194322 ,  16.73595258,  32.28937052,  15.19558874,\n",
       "        30.1384021 ,  30.96604611,  14.4950418 ,  15.57223118,\n",
       "        17.01961055,  10.31065368,   5.09435202,  -4.9961038 ,\n",
       "       -23.12971494, -11.14555772,  -0.62593543,  21.65139619])"
      ]
     },
     "execution_count": 54,
     "metadata": {},
     "output_type": "execute_result"
    }
   ],
   "source": [
    "df.loc[df['Time point'] == 2, 'Neutrophils'].to_numpy() - df.loc[df['Time point'] == 1, 'Neutrophils'].to_numpy()"
   ]
  },
  {
   "cell_type": "code",
   "execution_count": 43,
   "metadata": {},
   "outputs": [
    {
     "data": {
      "text/plain": [
       "inds\n",
       "1      120.451781\n",
       "2      119.683807\n",
       "3      104.687130\n",
       "4      109.797242\n",
       "5      122.834740\n",
       "          ...    \n",
       "196    122.849746\n",
       "197    130.737686\n",
       "198    125.434914\n",
       "199    117.699713\n",
       "200     99.919935\n",
       "Length: 200, dtype: float64"
      ]
     },
     "execution_count": 43,
     "metadata": {},
     "output_type": "execute_result"
    }
   ],
   "source": [
    "df.loc[:, ['Neutrophils', 'Eosinophils', 'Basophils', 'B_cells', 'T_cells',\n",
    "       'NKT_cells', 'NK_cells', 'Monocytes', \n",
    "       'Plasmacytoid_Dendritic_cells', 'cDC1', 'cDC2', 'CD4_Naive_Tregs',\n",
    "       'CD4_Memory_Tregs', 'CD4_Central_Memory',\n",
    "       'CD4_Transitional_Memory', 'CD4_TEMRA', 'CD4_Effector_Memory',\n",
    "       'CD8_Naive_T_cells', 'CD8_Central_Memory', 'CD8_Transitional_Memory',\n",
    "       'CD8_TEMRA', 'CD8_Effector_Memory', 'MAIT_cells', 'gdT_Vdelta2+',\n",
    "       'gdT_Vdelta2-']].sum(axis=1)"
   ]
  },
  {
   "cell_type": "code",
   "execution_count": 29,
   "metadata": {},
   "outputs": [
    {
     "data": {
      "text/plain": [
       "<seaborn.axisgrid.FacetGrid at 0x1ecd54c2ca0>"
      ]
     },
     "execution_count": 29,
     "metadata": {},
     "output_type": "execute_result"
    },
    {
     "data": {
      "image/png": "[encoded data removed]",
      "text/plain": [
       "<Figure size 584.986x500 with 1 Axes>"
      ]
     },
     "metadata": {},
     "output_type": "display_data"
    }
   ],
   "source": [
    "sns.displot(df, x='B_cells', hue='Time point', palette='bright')"
   ]
  },
  {
   "cell_type": "code",
   "execution_count": 23,
   "metadata": {},
   "outputs": [
    {
     "data": {
      "text/html": [
       "<div>\n",
       "<style scoped>\n",
       "    .dataframe tbody tr th:only-of-type {\n",
       "        vertical-align: middle;\n",
       "    }\n",
       "\n",
       "    .dataframe tbody tr th {\n",
       "        vertical-align: top;\n",
       "    }\n",
       "\n",
       "    .dataframe thead th {\n",
       "        text-align: right;\n",
       "    }\n",
       "</style>\n",
       "<table border=\"1\" class=\"dataframe\">\n",
       "  <thead>\n",
       "    <tr style=\"text-align: right;\">\n",
       "      <th></th>\n",
       "      <th>Neutrophils</th>\n",
       "      <th>Eosinophils</th>\n",
       "      <th>Basophils</th>\n",
       "      <th>B_cells</th>\n",
       "      <th>T_cells</th>\n",
       "      <th>NKT_cells</th>\n",
       "      <th>NK_cells</th>\n",
       "      <th>Monocytes</th>\n",
       "      <th>Immature_NK_cells</th>\n",
       "      <th>Mature_NK_CD158+_CD57+</th>\n",
       "      <th>...</th>\n",
       "      <th>gdT_Vdelta2+</th>\n",
       "      <th>gdT_Vdelta2-</th>\n",
       "      <th>Naive_B_cells</th>\n",
       "      <th>Non-switched_Memory_IgM_B_cells</th>\n",
       "      <th>Switched_Memory_IgG+</th>\n",
       "      <th>Switched_Memory_IgA+</th>\n",
       "      <th>Switched_Memory_IgA-_IgG-</th>\n",
       "      <th>Time point</th>\n",
       "      <th>response</th>\n",
       "      <th>donor_num</th>\n",
       "    </tr>\n",
       "    <tr>\n",
       "      <th>inds</th>\n",
       "      <th></th>\n",
       "      <th></th>\n",
       "      <th></th>\n",
       "      <th></th>\n",
       "      <th></th>\n",
       "      <th></th>\n",
       "      <th></th>\n",
       "      <th></th>\n",
       "      <th></th>\n",
       "      <th></th>\n",
       "      <th></th>\n",
       "      <th></th>\n",
       "      <th></th>\n",
       "      <th></th>\n",
       "      <th></th>\n",
       "      <th></th>\n",
       "      <th></th>\n",
       "      <th></th>\n",
       "      <th></th>\n",
       "      <th></th>\n",
       "      <th></th>\n",
       "    </tr>\n",
       "  </thead>\n",
       "  <tbody>\n",
       "    <tr>\n",
       "      <th>1</th>\n",
       "      <td>61.409675</td>\n",
       "      <td>0.824102</td>\n",
       "      <td>0.343589</td>\n",
       "      <td>3.844453</td>\n",
       "      <td>19.948739</td>\n",
       "      <td>3.557391</td>\n",
       "      <td>2.919137</td>\n",
       "      <td>9.673985</td>\n",
       "      <td>0.166210</td>\n",
       "      <td>0.438825</td>\n",
       "      <td>...</td>\n",
       "      <td>0.010769</td>\n",
       "      <td>0.900482</td>\n",
       "      <td>2.904248</td>\n",
       "      <td>0.242094</td>\n",
       "      <td>0.279949</td>\n",
       "      <td>0.112244</td>\n",
       "      <td>0.086273</td>\n",
       "      <td>1</td>\n",
       "      <td>0</td>\n",
       "      <td>50</td>\n",
       "    </tr>\n",
       "    <tr>\n",
       "      <th>2</th>\n",
       "      <td>64.257310</td>\n",
       "      <td>1.040620</td>\n",
       "      <td>0.335715</td>\n",
       "      <td>1.666845</td>\n",
       "      <td>21.829764</td>\n",
       "      <td>2.095258</td>\n",
       "      <td>5.074820</td>\n",
       "      <td>5.437992</td>\n",
       "      <td>0.203931</td>\n",
       "      <td>0.620319</td>\n",
       "      <td>...</td>\n",
       "      <td>0.102681</td>\n",
       "      <td>0.086994</td>\n",
       "      <td>0.883428</td>\n",
       "      <td>0.162517</td>\n",
       "      <td>0.206272</td>\n",
       "      <td>0.068757</td>\n",
       "      <td>0.110428</td>\n",
       "      <td>1</td>\n",
       "      <td>1</td>\n",
       "      <td>100</td>\n",
       "    </tr>\n",
       "    <tr>\n",
       "      <th>4</th>\n",
       "      <td>75.720771</td>\n",
       "      <td>1.039743</td>\n",
       "      <td>0.455274</td>\n",
       "      <td>2.768982</td>\n",
       "      <td>12.462724</td>\n",
       "      <td>0.274928</td>\n",
       "      <td>2.284924</td>\n",
       "      <td>4.608260</td>\n",
       "      <td>0.087786</td>\n",
       "      <td>0.148657</td>\n",
       "      <td>...</td>\n",
       "      <td>0.284012</td>\n",
       "      <td>0.022831</td>\n",
       "      <td>2.556266</td>\n",
       "      <td>0.055930</td>\n",
       "      <td>0.055930</td>\n",
       "      <td>0.045386</td>\n",
       "      <td>0.005043</td>\n",
       "      <td>1</td>\n",
       "      <td>1</td>\n",
       "      <td>78</td>\n",
       "    </tr>\n",
       "    <tr>\n",
       "      <th>5</th>\n",
       "      <td>45.240135</td>\n",
       "      <td>4.228360</td>\n",
       "      <td>1.195060</td>\n",
       "      <td>2.705728</td>\n",
       "      <td>25.813921</td>\n",
       "      <td>0.428603</td>\n",
       "      <td>7.068587</td>\n",
       "      <td>12.689077</td>\n",
       "      <td>0.302709</td>\n",
       "      <td>2.281679</td>\n",
       "      <td>...</td>\n",
       "      <td>0.358324</td>\n",
       "      <td>0.040277</td>\n",
       "      <td>1.734958</td>\n",
       "      <td>0.357482</td>\n",
       "      <td>0.182372</td>\n",
       "      <td>0.176724</td>\n",
       "      <td>0.059715</td>\n",
       "      <td>1</td>\n",
       "      <td>1</td>\n",
       "      <td>81</td>\n",
       "    </tr>\n",
       "    <tr>\n",
       "      <th>6</th>\n",
       "      <td>52.596696</td>\n",
       "      <td>1.841054</td>\n",
       "      <td>0.490531</td>\n",
       "      <td>2.040435</td>\n",
       "      <td>26.507256</td>\n",
       "      <td>2.603538</td>\n",
       "      <td>8.455367</td>\n",
       "      <td>7.179523</td>\n",
       "      <td>0.153552</td>\n",
       "      <td>1.452642</td>\n",
       "      <td>...</td>\n",
       "      <td>0.325003</td>\n",
       "      <td>0.781079</td>\n",
       "      <td>1.501970</td>\n",
       "      <td>0.140849</td>\n",
       "      <td>0.226854</td>\n",
       "      <td>0.090575</td>\n",
       "      <td>0.035316</td>\n",
       "      <td>1</td>\n",
       "      <td>1</td>\n",
       "      <td>72</td>\n",
       "    </tr>\n",
       "  </tbody>\n",
       "</table>\n",
       "<p>5 rows × 43 columns</p>\n",
       "</div>"
      ],
      "text/plain": [
       "      Neutrophils  Eosinophils  Basophils   B_cells    T_cells  NKT_cells  \\\n",
       "inds                                                                        \n",
       "1       61.409675     0.824102   0.343589  3.844453  19.948739   3.557391   \n",
       "2       64.257310     1.040620   0.335715  1.666845  21.829764   2.095258   \n",
       "4       75.720771     1.039743   0.455274  2.768982  12.462724   0.274928   \n",
       "5       45.240135     4.228360   1.195060  2.705728  25.813921   0.428603   \n",
       "6       52.596696     1.841054   0.490531  2.040435  26.507256   2.603538   \n",
       "\n",
       "      NK_cells  Monocytes  Immature_NK_cells  Mature_NK_CD158+_CD57+  ...  \\\n",
       "inds                                                                  ...   \n",
       "1     2.919137   9.673985           0.166210                0.438825  ...   \n",
       "2     5.074820   5.437992           0.203931                0.620319  ...   \n",
       "4     2.284924   4.608260           0.087786                0.148657  ...   \n",
       "5     7.068587  12.689077           0.302709                2.281679  ...   \n",
       "6     8.455367   7.179523           0.153552                1.452642  ...   \n",
       "\n",
       "      gdT_Vdelta2+  gdT_Vdelta2-  Naive_B_cells  \\\n",
       "inds                                              \n",
       "1         0.010769      0.900482       2.904248   \n",
       "2         0.102681      0.086994       0.883428   \n",
       "4         0.284012      0.022831       2.556266   \n",
       "5         0.358324      0.040277       1.734958   \n",
       "6         0.325003      0.781079       1.501970   \n",
       "\n",
       "      Non-switched_Memory_IgM_B_cells  Switched_Memory_IgG+  \\\n",
       "inds                                                          \n",
       "1                            0.242094              0.279949   \n",
       "2                            0.162517              0.206272   \n",
       "4                            0.055930              0.055930   \n",
       "5                            0.357482              0.182372   \n",
       "6                            0.140849              0.226854   \n",
       "\n",
       "      Switched_Memory_IgA+  Switched_Memory_IgA-_IgG-  Time point  response  \\\n",
       "inds                                                                          \n",
       "1                 0.112244                   0.086273           1         0   \n",
       "2                 0.068757                   0.110428           1         1   \n",
       "4                 0.045386                   0.005043           1         1   \n",
       "5                 0.176724                   0.059715           1         1   \n",
       "6                 0.090575                   0.035316           1         1   \n",
       "\n",
       "      donor_num  \n",
       "inds             \n",
       "1            50  \n",
       "2           100  \n",
       "4            78  \n",
       "5            81  \n",
       "6            72  \n",
       "\n",
       "[5 rows x 43 columns]"
      ]
     },
     "execution_count": 23,
     "metadata": {},
     "output_type": "execute_result"
    }
   ],
   "source": [
    "df1 = df.loc[df['Time point'] == 1]\n",
    "df1.head()"
   ]
  },
  {
   "cell_type": "code",
   "execution_count": 31,
   "metadata": {},
   "outputs": [
    {
     "data": {
      "text/plain": [
       "<seaborn.axisgrid.FacetGrid at 0x1ecd560c5e0>"
      ]
     },
     "execution_count": 31,
     "metadata": {},
     "output_type": "execute_result"
    },
    {
     "data": {
      "image/png": "[encoded data removed]",
      "text/plain": [
       "<Figure size 573.986x500 with 1 Axes>"
      ]
     },
     "metadata": {},
     "output_type": "display_data"
    }
   ],
   "source": [
    "sns.displot(df1, x='B_cells', hue='response', palette='bright')"
   ]
  },
  {
   "cell_type": "code",
   "execution_count": 47,
   "metadata": {},
   "outputs": [
    {
     "data": {
      "text/plain": [
       "<Axes: ylabel='B_cells'>"
      ]
     },
     "execution_count": 47,
     "metadata": {},
     "output_type": "execute_result"
    },
    {
     "data": {
      "image/png": "[encoded data removed]",
      "text/plain": [
       "<Figure size 640x480 with 1 Axes>"
      ]
     },
     "metadata": {},
     "output_type": "display_data"
    }
   ],
   "source": [
    "sns.boxplot(df1['B_cells'])"
   ]
  },
  {
   "cell_type": "code",
   "execution_count": 46,
   "metadata": {},
   "outputs": [
    {
     "data": {
      "text/plain": [
       "<seaborn.axisgrid.FacetGrid at 0x1ecd66da100>"
      ]
     },
     "execution_count": 46,
     "metadata": {},
     "output_type": "execute_result"
    },
    {
     "data": {
      "image/png": "[encoded data removed]",
      "text/plain": [
       "<Figure size 500x500 with 1 Axes>"
      ]
     },
     "metadata": {},
     "output_type": "display_data"
    }
   ],
   "source": [
    "sns.displot(df1['B_cells'])"
   ]
  },
  {
   "cell_type": "code",
   "execution_count": 24,
   "metadata": {},
   "outputs": [
    {
     "data": {
      "text/html": [
       "<div>\n",
       "<style scoped>\n",
       "    .dataframe tbody tr th:only-of-type {\n",
       "        vertical-align: middle;\n",
       "    }\n",
       "\n",
       "    .dataframe tbody tr th {\n",
       "        vertical-align: top;\n",
       "    }\n",
       "\n",
       "    .dataframe thead th {\n",
       "        text-align: right;\n",
       "    }\n",
       "</style>\n",
       "<table border=\"1\" class=\"dataframe\">\n",
       "  <thead>\n",
       "    <tr style=\"text-align: right;\">\n",
       "      <th></th>\n",
       "      <th>Neutrophils</th>\n",
       "      <th>Eosinophils</th>\n",
       "      <th>Basophils</th>\n",
       "      <th>B_cells</th>\n",
       "      <th>T_cells</th>\n",
       "      <th>NKT_cells</th>\n",
       "      <th>NK_cells</th>\n",
       "      <th>Monocytes</th>\n",
       "      <th>Immature_NK_cells</th>\n",
       "      <th>Mature_NK_CD158+_CD57+</th>\n",
       "      <th>...</th>\n",
       "      <th>gdT_Vdelta2+</th>\n",
       "      <th>gdT_Vdelta2-</th>\n",
       "      <th>Naive_B_cells</th>\n",
       "      <th>Non-switched_Memory_IgM_B_cells</th>\n",
       "      <th>Switched_Memory_IgG+</th>\n",
       "      <th>Switched_Memory_IgA+</th>\n",
       "      <th>Switched_Memory_IgA-_IgG-</th>\n",
       "      <th>Time point</th>\n",
       "      <th>response</th>\n",
       "      <th>donor_num</th>\n",
       "    </tr>\n",
       "    <tr>\n",
       "      <th>inds</th>\n",
       "      <th></th>\n",
       "      <th></th>\n",
       "      <th></th>\n",
       "      <th></th>\n",
       "      <th></th>\n",
       "      <th></th>\n",
       "      <th></th>\n",
       "      <th></th>\n",
       "      <th></th>\n",
       "      <th></th>\n",
       "      <th></th>\n",
       "      <th></th>\n",
       "      <th></th>\n",
       "      <th></th>\n",
       "      <th></th>\n",
       "      <th></th>\n",
       "      <th></th>\n",
       "      <th></th>\n",
       "      <th></th>\n",
       "      <th></th>\n",
       "      <th></th>\n",
       "    </tr>\n",
       "  </thead>\n",
       "  <tbody>\n",
       "    <tr>\n",
       "      <th>3</th>\n",
       "      <td>73.598340</td>\n",
       "      <td>3.131417</td>\n",
       "      <td>1.105466</td>\n",
       "      <td>2.299966</td>\n",
       "      <td>6.354818</td>\n",
       "      <td>0.067537</td>\n",
       "      <td>4.075060</td>\n",
       "      <td>9.000547</td>\n",
       "      <td>0.126261</td>\n",
       "      <td>0.807166</td>\n",
       "      <td>...</td>\n",
       "      <td>0.037815</td>\n",
       "      <td>0.001964</td>\n",
       "      <td>1.561853</td>\n",
       "      <td>0.597683</td>\n",
       "      <td>0.046239</td>\n",
       "      <td>0.041672</td>\n",
       "      <td>0.018838</td>\n",
       "      <td>2</td>\n",
       "      <td>0</td>\n",
       "      <td>1</td>\n",
       "    </tr>\n",
       "    <tr>\n",
       "      <th>7</th>\n",
       "      <td>78.124364</td>\n",
       "      <td>1.100390</td>\n",
       "      <td>0.452387</td>\n",
       "      <td>0.014926</td>\n",
       "      <td>9.868258</td>\n",
       "      <td>0.691069</td>\n",
       "      <td>3.852374</td>\n",
       "      <td>5.600973</td>\n",
       "      <td>0.327657</td>\n",
       "      <td>0.523704</td>\n",
       "      <td>...</td>\n",
       "      <td>0.119626</td>\n",
       "      <td>0.017089</td>\n",
       "      <td>0.004523</td>\n",
       "      <td>0.000452</td>\n",
       "      <td>0.000452</td>\n",
       "      <td>0.002261</td>\n",
       "      <td>0.002714</td>\n",
       "      <td>2</td>\n",
       "      <td>0</td>\n",
       "      <td>41</td>\n",
       "    </tr>\n",
       "    <tr>\n",
       "      <th>8</th>\n",
       "      <td>52.440839</td>\n",
       "      <td>14.012227</td>\n",
       "      <td>0.825887</td>\n",
       "      <td>2.020165</td>\n",
       "      <td>19.908586</td>\n",
       "      <td>1.999472</td>\n",
       "      <td>2.965764</td>\n",
       "      <td>6.988133</td>\n",
       "      <td>0.091757</td>\n",
       "      <td>0.266834</td>\n",
       "      <td>...</td>\n",
       "      <td>0.128946</td>\n",
       "      <td>0.719549</td>\n",
       "      <td>1.395880</td>\n",
       "      <td>0.229599</td>\n",
       "      <td>0.128514</td>\n",
       "      <td>0.120387</td>\n",
       "      <td>0.047748</td>\n",
       "      <td>2</td>\n",
       "      <td>1</td>\n",
       "      <td>81</td>\n",
       "    </tr>\n",
       "    <tr>\n",
       "      <th>12</th>\n",
       "      <td>58.286925</td>\n",
       "      <td>1.495692</td>\n",
       "      <td>0.288484</td>\n",
       "      <td>2.017532</td>\n",
       "      <td>28.511527</td>\n",
       "      <td>1.229635</td>\n",
       "      <td>1.349499</td>\n",
       "      <td>7.653924</td>\n",
       "      <td>0.313342</td>\n",
       "      <td>0.075347</td>\n",
       "      <td>...</td>\n",
       "      <td>0.850972</td>\n",
       "      <td>0.300405</td>\n",
       "      <td>1.437821</td>\n",
       "      <td>0.441085</td>\n",
       "      <td>0.040099</td>\n",
       "      <td>0.033797</td>\n",
       "      <td>0.027496</td>\n",
       "      <td>2</td>\n",
       "      <td>1</td>\n",
       "      <td>100</td>\n",
       "    </tr>\n",
       "    <tr>\n",
       "      <th>13</th>\n",
       "      <td>61.230449</td>\n",
       "      <td>0.366288</td>\n",
       "      <td>0.584866</td>\n",
       "      <td>2.409411</td>\n",
       "      <td>24.363597</td>\n",
       "      <td>1.605113</td>\n",
       "      <td>3.692108</td>\n",
       "      <td>6.616489</td>\n",
       "      <td>0.111659</td>\n",
       "      <td>0.586209</td>\n",
       "      <td>...</td>\n",
       "      <td>0.426367</td>\n",
       "      <td>0.216471</td>\n",
       "      <td>1.612291</td>\n",
       "      <td>0.428804</td>\n",
       "      <td>0.160881</td>\n",
       "      <td>0.106726</td>\n",
       "      <td>0.034836</td>\n",
       "      <td>2</td>\n",
       "      <td>1</td>\n",
       "      <td>76</td>\n",
       "    </tr>\n",
       "  </tbody>\n",
       "</table>\n",
       "<p>5 rows × 43 columns</p>\n",
       "</div>"
      ],
      "text/plain": [
       "      Neutrophils  Eosinophils  Basophils   B_cells    T_cells  NKT_cells  \\\n",
       "inds                                                                        \n",
       "3       73.598340     3.131417   1.105466  2.299966   6.354818   0.067537   \n",
       "7       78.124364     1.100390   0.452387  0.014926   9.868258   0.691069   \n",
       "8       52.440839    14.012227   0.825887  2.020165  19.908586   1.999472   \n",
       "12      58.286925     1.495692   0.288484  2.017532  28.511527   1.229635   \n",
       "13      61.230449     0.366288   0.584866  2.409411  24.363597   1.605113   \n",
       "\n",
       "      NK_cells  Monocytes  Immature_NK_cells  Mature_NK_CD158+_CD57+  ...  \\\n",
       "inds                                                                  ...   \n",
       "3     4.075060   9.000547           0.126261                0.807166  ...   \n",
       "7     3.852374   5.600973           0.327657                0.523704  ...   \n",
       "8     2.965764   6.988133           0.091757                0.266834  ...   \n",
       "12    1.349499   7.653924           0.313342                0.075347  ...   \n",
       "13    3.692108   6.616489           0.111659                0.586209  ...   \n",
       "\n",
       "      gdT_Vdelta2+  gdT_Vdelta2-  Naive_B_cells  \\\n",
       "inds                                              \n",
       "3         0.037815      0.001964       1.561853   \n",
       "7         0.119626      0.017089       0.004523   \n",
       "8         0.128946      0.719549       1.395880   \n",
       "12        0.850972      0.300405       1.437821   \n",
       "13        0.426367      0.216471       1.612291   \n",
       "\n",
       "      Non-switched_Memory_IgM_B_cells  Switched_Memory_IgG+  \\\n",
       "inds                                                          \n",
       "3                            0.597683              0.046239   \n",
       "7                            0.000452              0.000452   \n",
       "8                            0.229599              0.128514   \n",
       "12                           0.441085              0.040099   \n",
       "13                           0.428804              0.160881   \n",
       "\n",
       "      Switched_Memory_IgA+  Switched_Memory_IgA-_IgG-  Time point  response  \\\n",
       "inds                                                                          \n",
       "3                 0.041672                   0.018838           2         0   \n",
       "7                 0.002261                   0.002714           2         0   \n",
       "8                 0.120387                   0.047748           2         1   \n",
       "12                0.033797                   0.027496           2         1   \n",
       "13                0.106726                   0.034836           2         1   \n",
       "\n",
       "      donor_num  \n",
       "inds             \n",
       "3             1  \n",
       "7            41  \n",
       "8            81  \n",
       "12          100  \n",
       "13           76  \n",
       "\n",
       "[5 rows x 43 columns]"
      ]
     },
     "execution_count": 24,
     "metadata": {},
     "output_type": "execute_result"
    }
   ],
   "source": [
    "df2 = df.loc[df['Time point'] == 2]\n",
    "df2.head()"
   ]
  },
  {
   "cell_type": "code",
   "execution_count": 39,
   "metadata": {},
   "outputs": [
    {
     "data": {
      "text/plain": [
       "<seaborn.axisgrid.FacetGrid at 0x1ecd62cb130>"
      ]
     },
     "execution_count": 39,
     "metadata": {},
     "output_type": "execute_result"
    },
    {
     "data": {
      "image/png": "[encoded data removed]",
      "text/plain": [
       "<Figure size 573.986x500 with 1 Axes>"
      ]
     },
     "metadata": {},
     "output_type": "display_data"
    }
   ],
   "source": [
    "sns.displot(df2, x='Immature_NK_cells', hue='response', palette='bright')"
   ]
  },
  {
   "cell_type": "code",
   "execution_count": 45,
   "metadata": {},
   "outputs": [
    {
     "data": {
      "text/plain": [
       "<seaborn.axisgrid.FacetGrid at 0x1ecd673d190>"
      ]
     },
     "execution_count": 45,
     "metadata": {},
     "output_type": "execute_result"
    },
    {
     "data": {
      "image/png": "[encoded data removed]",
      "text/plain": [
       "<Figure size 500x500 with 1 Axes>"
      ]
     },
     "metadata": {},
     "output_type": "display_data"
    }
   ],
   "source": [
    "sns.displot(df2['B_cells'])"
   ]
  },
  {
   "cell_type": "code",
   "execution_count": 44,
   "metadata": {},
   "outputs": [
    {
     "data": {
      "text/plain": [
       "<Axes: ylabel='B_cells'>"
      ]
     },
     "execution_count": 44,
     "metadata": {},
     "output_type": "execute_result"
    },
    {
     "data": {
      "image/png": "[encoded data removed]",
      "text/plain": [
       "<Figure size 640x480 with 1 Axes>"
      ]
     },
     "metadata": {},
     "output_type": "display_data"
    }
   ],
   "source": [
    "sns.boxplot(df2['B_cells'])"
   ]
  },
  {
   "cell_type": "code",
   "execution_count": 20,
   "metadata": {},
   "outputs": [
    {
     "data": {
      "text/plain": [
       "inds\n",
       "1      0\n",
       "151    0\n",
       "Name: response, dtype: int32"
      ]
     },
     "execution_count": 20,
     "metadata": {},
     "output_type": "execute_result"
    }
   ],
   "source": [
    "df.loc[df['donor_num'] == 50, 'response']"
   ]
  },
  {
   "cell_type": "code",
   "execution_count": 6,
   "metadata": {},
   "outputs": [
    {
     "data": {
      "text/plain": [
       "(200, 43)"
      ]
     },
     "execution_count": 6,
     "metadata": {},
     "output_type": "execute_result"
    }
   ],
   "source": [
    "df.shape"
   ]
  },
  {
   "cell_type": "code",
   "execution_count": 12,
   "metadata": {},
   "outputs": [
    {
     "data": {
      "text/plain": [
       "dtype('int32')"
      ]
     },
     "execution_count": 12,
     "metadata": {},
     "output_type": "execute_result"
    }
   ],
   "source": [
    "df['Time point'].dtype"
   ]
  }
 ],
 "metadata": {
  "kernelspec": {
   "display_name": "Python 3.9.10 ('venv': venv)",
   "language": "python",
   "name": "python3"
  },
  "language_info": {
   "codemirror_mode": {
    "name": "ipython",
    "version": 3
   },
   "file_extension": ".py",
   "mimetype": "text/x-python",
   "name": "python",
   "nbconvert_exporter": "python",
   "pygments_lexer": "ipython3",
   "version": "3.9.10"
  },
  "orig_nbformat": 4,
  "vscode": {
   "interpreter": {
    "hash": "9577eb5aa504119a39cbcf7961a5e5bb99e1a1c7780c57605f0c7d852ed7c831"
   }
  }
 },
 "nbformat": 4,
 "nbformat_minor": 2
}
